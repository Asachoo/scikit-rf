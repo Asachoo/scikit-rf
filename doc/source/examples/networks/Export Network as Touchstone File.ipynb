{
 "cells": [
  {
   "cell_type": "markdown",
   "metadata": {},
   "source": [
    "# Export Network as Touchstone File"
   ]
  },
  {
   "cell_type": "markdown",
   "metadata": {},
   "source": [
    "Frequently a `Network` is required to be saved as a [Touchstone file](https://en.wikipedia.org/wiki/Touchstone_file) so that it can be imported into another program such as [Keysight ADS](https://www.keysight.com/zz/en/products/software/pathwave-design-software/pathwave-advanced-design-system.html) or [Microwave Office](https://www.cadence.com/en_US/home/tools/system-analysis/rf-microwave-design/awr-design-environment-platform.html). The `Network.write_touchstone()` method allows `Network` objects to be exported in the appropriate format."
   ]
  },
  {
   "cell_type": "code",
   "execution_count": null,
   "metadata": {},
   "outputs": [],
   "source": [
    "import skrf as rf\n",
    "import numpy as np\n",
    "from pathlib import Path"
   ]
  },
  {
   "cell_type": "markdown",
   "source": [
    "In this example, we are going to first generate a random 2-port `Network` and export the data as a Touchstone file using all the default arguments"
   ],
   "metadata": {
    "collapsed": false
   }
  },
  {
   "cell_type": "code",
   "execution_count": null,
   "outputs": [],
   "source": [
    "# Set the number of points\n",
    "ports = 2\n",
    "\n",
    "# Generate the frequency object\n",
    "points = 201\n",
    "freq = rf.Frequency(1, 50, points, 'GHz')\n",
    "\n",
    "# Create random data to fill the Network\n",
    "s_random = np.random.uniform(-1, 1, (freq.npoints, ports, ports)) + \\\n",
    "        1j * np.random.uniform(-1, 1, (freq.npoints, ports, ports))\n",
    "\n",
    "# Generate the Network object\n",
    "ntwk = rf.Network(s=s_random, frequency=freq, name='test_ntwk')\n",
    "ntwk.comments = 'Default output'\n",
    "\n",
    "# Define the save location\n",
    "filepath = Path(f'test_network.s{ports}p')\n",
    "\n",
    "# Save the Network as a touchstone file using the default arguments\n",
    "ntwk.write_touchstone(filepath)"
   ],
   "metadata": {
    "collapsed": false,
    "pycharm": {
     "name": "#%%\n"
    }
   }
  },
  {
   "cell_type": "markdown",
   "source": [
    "In this example, we are going to export the same 2-port `Network` as a Touchstone file, but use the formatting strings to format the columns of the resulting file."
   ],
   "metadata": {
    "collapsed": false
   }
  },
  {
   "cell_type": "code",
   "execution_count": null,
   "outputs": [],
   "source": [
    "# Get a copy of the network\n",
    "ntwk_formatted = ntwk.copy()\n",
    "ntwk_formatted.comments = 'Formatted output'\n",
    "\n",
    "# Define the save location\n",
    "formatted_filepath = Path(f'test_network_formatted.s{ports}p')\n",
    "\n",
    "# Save the Network as a touchstone file using the string formatting options\n",
    "freq_fmt = '{:<10.5f}'\n",
    "data_fmt = '\\t\\t{:>10.5f}'\n",
    "ntwk_formatted.write_touchstone(\n",
    "    formatted_filepath,\n",
    "    form='db',\n",
    "    format_spec_freq=freq_fmt,\n",
    "    format_spec_A=data_fmt,\n",
    "    format_spec_B=data_fmt\n",
    ")"
   ],
   "metadata": {
    "collapsed": false,
    "pycharm": {
     "name": "#%%\n"
    }
   }
  },
  {
   "cell_type": "markdown",
   "metadata": {},
   "source": [
    "In this example, we are going to export a new 2-port `Network` as a Touchstone file, but we're going to include random noise data and format those output columns as well."
   ]
  },
  {
   "cell_type": "code",
   "execution_count": null,
   "metadata": {},
   "outputs": [],
   "source": [
    "# Create random data to fill the Network\n",
    "s_random = np.random.uniform(-1, 1, (freq.npoints, ports, ports)) + \\\n",
    "        1j * np.random.uniform(-1, 1, (freq.npoints, ports, ports))\n",
    "\n",
    "# Create random noise data to fill the Network\n",
    "nfmin_db_random = np.random.uniform(0, 10, freq.npoints)\n",
    "g_opt_random = np.random.uniform(-1, 1, freq.npoints) + \\\n",
    "        1j * np.random.uniform(-1, 1, freq.npoints)\n",
    "rn_random = np.random.uniform(size=freq.npoints)\n",
    "\n",
    "# Generate the Network object\n",
    "noisy_ntwk = rf.Network(s=s_random, frequency=freq, name='test_noisy_ntwk')\n",
    "noisy_ntwk.comments = 'Formatted output with noise data'\n",
    "\n",
    "# Add the noise data\n",
    "noisy_ntwk.set_noise_a(noise_freq=freq, nfmin_db=nfmin_db_random, gamma_opt=g_opt_random, rn=rn_random)\n",
    "\n",
    "# Define the save location\n",
    "formatted_filepath = Path(f'test_noisy_network_formatted.s{ports}p')\n",
    "\n",
    "# Save the Network as a touchstone file using the string formatting options\n",
    "noisy_ntwk.write_touchstone(\n",
    "    formatted_filepath,\n",
    "    form='db',\n",
    "    format_spec_freq=freq_fmt,\n",
    "    format_spec_A=data_fmt,\n",
    "    format_spec_B=data_fmt,\n",
    "    format_spec_nf_freq=freq_fmt,\n",
    "    format_spec_nf_min=data_fmt,\n",
    "    format_spec_g_opt_mag=data_fmt,\n",
    "    format_spec_g_opt_phase=data_fmt,\n",
    "    format_spec_rn=data_fmt\n",
    ")"
   ]
  },
  {
   "cell_type": "markdown",
   "metadata": {},
   "source": [
    "Finally, the Touchstone files can be imported into ADS or Microwave Office"
   ]
  }
 ],
 "metadata": {
  "interpreter": {
   "hash": "f9c1ad921755d07784f600fc7c2c11a8933ade33898d5981f5e318f268234d48"
  },
  "kernelspec": {
   "display_name": "Python 3 (ipykernel)",
   "language": "python",
   "name": "python3"
  },
  "language_info": {
   "codemirror_mode": {
    "name": "ipython",
    "version": 3
   },
   "file_extension": ".py",
   "mimetype": "text/x-python",
   "name": "python",
   "nbconvert_exporter": "python",
   "pygments_lexer": "ipython3",
   "version": "3.9.7"
  }
 },
 "nbformat": 4,
 "nbformat_minor": 2
}